{
 "cells": [
  {
   "cell_type": "code",
   "execution_count": 1,
   "id": "7d3f6d59",
   "metadata": {},
   "outputs": [],
   "source": [
    "from ipywidgets import interact, interactive, fixed, interact_manual, Layout, SelectMultiple\n",
    "import ipywidgets as widgets\n",
    "import pandas as pd\n",
    "import numpy as np\n",
    "import seaborn as sns\n",
    "import matplotlib.pyplot as plt\n",
    "from IPython.display import display\n",
    "from datetime import datetime as dt\n",
    "import ipydatetime\n",
    "import time\n",
    "import matplotlib.ticker as mticker\n",
    "import matplotlib\n",
    "import plotly.express as px"
   ]
  },
  {
   "cell_type": "code",
   "execution_count": 2,
   "id": "a9acc268",
   "metadata": {},
   "outputs": [],
   "source": [
    "df = pd.read_csv(\"/home/frakesmart/Desktop/LIPO/LiPO-MaSS/july_13_hampton_arcovia_hampton.csv\")\n",
    "df['Date'] = pd.to_datetime(df['Date'],format='%d/%m/%Y')"
   ]
  },
  {
   "cell_type": "code",
   "execution_count": 3,
   "id": "e944f118",
   "metadata": {},
   "outputs": [],
   "source": [
    "start_date_widget = widgets.DatePicker(\n",
    "    description='Start Date',\n",
    "    disabled=False)\n",
    "\n",
    "\n",
    "end_date_widget = widgets.DatePicker(\n",
    "    description='End Date',\n",
    "    disabled=False\n",
    ")\n",
    "\n",
    "opts = ['Speed', 'Altitude', 'ir', 'luminosity', 'pm1s', 'pm25s', 'pm10s', 'pm1e', 'pm25e', 'pm10e', 'a03um01Lair', 'a05um01Lair', 'a1um01Lair', 'a25um01Lair', 'a5um01Lair', 'a10um01Lair', 'Co2', 'Temp', 'Hum']\n",
    "sensor_data_widget = widgets.Select(\n",
    "    options=opts,\n",
    "    description='Sensor Data:',\n",
    "    disabled=False,\n",
    "    rows=3\n",
    "    )"
   ]
  },
  {
   "cell_type": "code",
   "execution_count": 4,
   "id": "322620af",
   "metadata": {},
   "outputs": [],
   "source": [
    "\n",
    "\n",
    "speed_widget = widgets.FloatRangeSlider(\n",
    "    value=[0.01, 3.0],\n",
    "    min=0.01,\n",
    "    max=3.0,\n",
    "    step=0.01,\n",
    "    description='Speed:',\n",
    "    disabled=False,\n",
    "    continuous_update=False,\n",
    "    orientation='horizontal',\n",
    "    readout=True,\n",
    "    readout_format='.3f',\n",
    ")\n",
    "\n",
    "Altitude_widget = widgets.FloatRangeSlider(\n",
    "    value=[0.0, 150],\n",
    "    min=0.0,\n",
    "    max=150.0,\n",
    "    step=0.1,\n",
    "    description='Altitude:',\n",
    "    disabled=False,\n",
    "    continuous_update=False,\n",
    "    orientation='horizontal',\n",
    "    readout=True,\n",
    "    readout_format='.1f',\n",
    ")\n",
    "\n",
    "ir_widget = widgets.FloatRangeSlider(\n",
    "    value=[0.0, 900.0],\n",
    "    min=0.0,\n",
    "    max=900.0,\n",
    "    step=1.0,\n",
    "    description='IR:',\n",
    "    disabled=False,\n",
    "    continuous_update=False,\n",
    "    orientation='horizontal',\n",
    "    readout=True,\n",
    "    readout_format='.1f',\n",
    ")\n",
    "\n",
    "luminosity_widget = widgets.FloatRangeSlider(\n",
    "    value=[0.04, 3.0],\n",
    "    min=0.04,\n",
    "    max=3.0,\n",
    "    step=0.01,\n",
    "    description='Luminosity:',\n",
    "    disabled=False,\n",
    "    continuous_update=False,\n",
    "    orientation='horizontal',\n",
    "    readout=True,\n",
    "    readout_format='.5f',\n",
    ")\n",
    "\n",
    "pm1s_widget = widgets.FloatRangeSlider(\n",
    "    value=[1.0, 400.0],\n",
    "    min=1.0,\n",
    "    max=400.0,\n",
    "    step=1.0,\n",
    "    description='PM1s:',\n",
    "    disabled=False,\n",
    "    continuous_update=False,\n",
    "    orientation='horizontal',\n",
    "    readout=True,\n",
    "    readout_format='.1f',\n",
    ")\n",
    "\n",
    "pm25s_widget = widgets.FloatRangeSlider(\n",
    "    value=[1.0, 600.0],\n",
    "    min=1.0,\n",
    "    max=600.0,\n",
    "    step=1.0,\n",
    "    description='PM2.5s:',\n",
    "    disabled=False,\n",
    "    continuous_update=False,\n",
    "    orientation='horizontal',\n",
    "    readout=True,\n",
    "    readout_format='.1f',\n",
    ")\n",
    "\n",
    "pm10s_widget = widgets.FloatRangeSlider(\n",
    "    value=[1.0, 600.0],\n",
    "    min=1.0,\n",
    "    max=600.0,\n",
    "    step=1.0,\n",
    "    description='PM10s:',\n",
    "    disabled=False,\n",
    "    continuous_update=False,\n",
    "    orientation='horizontal',\n",
    "    readout=True,\n",
    "    readout_format='.1f',\n",
    ")\n",
    "\n",
    "pm1e_widget = widgets.FloatRangeSlider(\n",
    "    value=[1.0, 300.0],\n",
    "    min=1.0,\n",
    "    max=300.0,\n",
    "    step=1.0,\n",
    "    description='PM1e:',\n",
    "    disabled=False,\n",
    "    continuous_update=False,\n",
    "    orientation='horizontal',\n",
    "    readout=True,\n",
    "    readout_format='.1f',\n",
    ")\n",
    "\n",
    "pm25e_widget = widgets.FloatRangeSlider(\n",
    "    value=[1.0, 350.0],\n",
    "    min=1.0,\n",
    "    max=350.0,\n",
    "    step=1.0,\n",
    "    description='PM2.5e:',\n",
    "    disabled=False,\n",
    "    continuous_update=False,\n",
    "    orientation='horizontal',\n",
    "    readout=True,\n",
    "    readout_format='.1f',\n",
    ")\n",
    "\n",
    "pm10e_widget = widgets.FloatRangeSlider(\n",
    "    value=[1.0, 400.0],\n",
    "    min=1.0,\n",
    "    max=400.0,\n",
    "    step=1.0,\n",
    "    description='PM10e:',\n",
    "    disabled=False,\n",
    "    continuous_update=False,\n",
    "    orientation='horizontal',\n",
    "    readout=True,\n",
    "    readout_format='.1f',\n",
    ")\n",
    "\n",
    "a03um01Lair_widget = widgets.FloatRangeSlider(\n",
    "    value=[450.0, 53000.0],\n",
    "    min=450.0,\n",
    "    max=53000.0,\n",
    "    step=1.0,\n",
    "    description='03um01Lair:',\n",
    "    disabled=False,\n",
    "    continuous_update=False,\n",
    "    orientation='horizontal',\n",
    "    readout=True,\n",
    "    readout_format='.1f',\n",
    ")\n",
    "\n",
    "a05um01Lair_widget = widgets.FloatRangeSlider(\n",
    "    value=[130.0, 60000.0],\n",
    "    min=130.0,\n",
    "    max=60000.0,\n",
    "    step=1.0,\n",
    "    description='05um01Lair:',\n",
    "    disabled=False,\n",
    "    continuous_update=False,\n",
    "    orientation='horizontal',\n",
    "    readout=True,\n",
    "    readout_format='.1f',\n",
    ")\n",
    "\n",
    "a1um01Lair_widget = widgets.FloatRangeSlider(\n",
    "    value=[0.0, 61000.0],\n",
    "    min=0.0,\n",
    "    max=61000.0,\n",
    "    step=1.0,\n",
    "    description='1um01Lair:',\n",
    "    disabled=False,\n",
    "    continuous_update=False,\n",
    "    orientation='horizontal',\n",
    "    readout=True,\n",
    "    readout_format='.1f',\n",
    ")\n",
    "\n",
    "a25um01Lair_widget = widgets.FloatRangeSlider(\n",
    "    value=[0.0, 42000.0],\n",
    "    min=0.0,\n",
    "    max=42000.0,\n",
    "    step=0.01,\n",
    "    description='25um01Lair:',\n",
    "    disabled=False,\n",
    "    continuous_update=False,\n",
    "    orientation='horizontal',\n",
    "    readout=True,\n",
    "    readout_format='.1f',\n",
    ")\n",
    "\n",
    "a5um01Lair_widget = widgets.FloatRangeSlider(\n",
    "    value=[0.0, 20000.0],\n",
    "    min=0.0,\n",
    "    max=20000.0,\n",
    "    step=1.0,\n",
    "    description='5um01Lair:',\n",
    "    disabled=False,\n",
    "    continuous_update=False,\n",
    "    orientation='horizontal',\n",
    "    readout=True,\n",
    "    readout_format='.1f',\n",
    ")\n",
    "\n",
    "a10um01Lair_widget = widgets.FloatRangeSlider(\n",
    "    value=[0.0, 10000.0],\n",
    "    min=0.0,\n",
    "    max=10000.0,\n",
    "    step=1.0,\n",
    "    description='10um01Lair:',\n",
    "    disabled=False,\n",
    "    continuous_update=False,\n",
    "    orientation='horizontal',\n",
    "    readout=True,\n",
    "    readout_format='.1f',\n",
    ")\n",
    "\n",
    "Co2_widget = widgets.FloatRangeSlider(\n",
    "    value=[670.0, 1100.0],\n",
    "    min=670.0,\n",
    "    max=1100.0,\n",
    "    step=1.0,\n",
    "    description='CO2:',\n",
    "    disabled=False,\n",
    "    continuous_update=False,\n",
    "    orientation='horizontal',\n",
    "    readout=True,\n",
    "    readout_format='.1f',\n",
    ")\n",
    "\n",
    "Temp_widget = widgets.FloatRangeSlider(\n",
    "    value=[16.0, 70.0],\n",
    "    min=16.0,\n",
    "    max=70.0,\n",
    "    step=1.0,\n",
    "    description='Temperature:',\n",
    "    disabled=False,\n",
    "    continuous_update=False,\n",
    "    orientation='horizontal',\n",
    "    readout=True,\n",
    "    readout_format='.1f',\n",
    ")\n",
    "\n",
    "Hum_widget = widgets.FloatRangeSlider(\n",
    "    value=[0.0, 100.0],\n",
    "    min=0.0,\n",
    "    max=100.0,\n",
    "    step=1.0,\n",
    "    description='Humidity:',\n",
    "    disabled=False,\n",
    "    continuous_update=False,\n",
    "    orientation='horizontal',\n",
    "    readout=True,\n",
    "    readout_format='.1f',\n",
    ")\n"
   ]
  },
  {
   "cell_type": "code",
   "execution_count": 5,
   "id": "3eca9114",
   "metadata": {},
   "outputs": [],
   "source": [
    "def sensor_data_parameters(sensordata):\n",
    "    display(sensor_data_widget)\n",
    "\n",
    "\n",
    "def date_parameters(start, end):\n",
    "    \n",
    "    #start = pd.to_datetime('2021/07/13')\n",
    "    #end = pd.to_datetime('2021/07/31')\n",
    "        \n",
    "    df_date_update = df.loc[(start <= df['Date'].dt.date) & (end >= df['Date'].dt.date)]\n",
    "    df_date_update.to_csv('date.csv')\n",
    "    \n",
    "#    df_speed = pd.read_csv('/home/frakesmart/Desktop/LIPO/speed.csv')\n",
    "#    fig = px.scatter_mapbox(df_speed, lat=\"Latitude\", lon=\"Longitude\", color=\"Speed\",size=\"Speed\", hover_name=\"Speed\", hover_data=[\"Speed\"],\n",
    "#                size_max=15, zoom=12, height=600)\n",
    "#    fig.update_layout(mapbox_style=\"open-street-map\")\n",
    "#    fig.update_layout(margin={\"r\":0,\"t\":0,\"l\":0,\"b\":0})\n",
    "    \n",
    "    \n",
    "#    fig.show()\n",
    "#    print(df_speed_updated)"
   ]
  },
  {
   "cell_type": "code",
   "execution_count": 6,
   "id": "6f3a7978",
   "metadata": {},
   "outputs": [],
   "source": [
    "def speed_parameters(speed):\n",
    "    \n",
    "    speedlow = speed[0]\n",
    "    speedhigh = speed[1]    \n",
    "    \n",
    "    data = pd.read_csv(\"/home/frakesmart/Desktop/LIPO/LiPO-MaSS/date.csv\")\n",
    "    df_speed_updated = data[data.Speed.between(speedlow,speedhigh)]\n",
    "    df_speed_updated.to_csv('speed.csv')\n",
    "    \n",
    "    \n",
    "    df_speed = pd.read_csv(\"/home/frakesmart/Desktop/LIPO/LiPO-MaSS/speed.csv\")\n",
    "    fig = px.scatter_mapbox(df_speed, lat=\"Latitude\", lon=\"Longitude\", color=\"Speed\",size=\"Speed\", hover_name=\"Speed\", hover_data=[\"Speed\"],\n",
    "                         size_max=15, zoom=12, height=600, width=900)\n",
    "    fig.update_layout(mapbox_style=\"open-street-map\")\n",
    "    fig.update_layout(margin={\"r\":0,\"t\":0,\"l\":0,\"b\":0})\n",
    "    fig.show()\n",
    "\n",
    "    \n",
    "    \n",
    "def altitude_parameters(altitude):\n",
    "    \n",
    "    altitudelow = altitude[0]\n",
    "    altitudehigh = altitude[1]    \n",
    "    \n",
    "    data = pd.read_csv(\"/home/frakesmart/Desktop/LIPO/LiPO-MaSS/date.csv\")\n",
    "    df_altitude_updated = data[data.Altitude.between(altitudelow,altitudehigh)]\n",
    "    df_altitude_updated.to_csv('altitude.csv')\n",
    "    \n",
    "    \n",
    "    df_altitude = pd.read_csv(\"/home/frakesmart/Desktop/LIPO/LiPO-MaSS/altitude.csv\")\n",
    "    fig = px.scatter_mapbox(df_altitude, lat=\"Latitude\", lon=\"Longitude\", color=\"Altitude\",size=\"Altitude\", hover_name=\"Altitude\", hover_data=[\"Altitude\"],\n",
    "                         size_max=15, zoom=12, height=600)\n",
    "    fig.update_layout(mapbox_style=\"open-street-map\")\n",
    "    fig.update_layout(margin={\"r\":0,\"t\":0,\"l\":0,\"b\":0})\n",
    "    fig.show()\n",
    "\n",
    "    \n",
    "    \n",
    "def ir_parameters(ir):\n",
    "    \n",
    "    irlow = ir[0]\n",
    "    irhigh = ir[1]    \n",
    "    \n",
    "    data = pd.read_csv(\"/home/frakesmart/Desktop/LIPO/LiPO-MaSS/date.csv\")\n",
    "    df_ir_updated = data[data.ir.between(irlow,irhigh)]\n",
    "    df_ir_updated.to_csv('ir.csv')\n",
    "    \n",
    "    \n",
    "    df_ir = pd.read_csv(\"/home/frakesmart/Desktop/LIPO/LiPO-MaSS/ir.csv\")\n",
    "    fig = px.scatter_mapbox(df_ir, lat=\"Latitude\", lon=\"Longitude\", color=\"ir\",size=\"ir\", hover_name=\"ir\", hover_data=[\"ir\"],\n",
    "                         size_max=15, zoom=12, height=600)\n",
    "    fig.update_layout(mapbox_style=\"open-street-map\")\n",
    "    fig.update_layout(margin={\"r\":0,\"t\":0,\"l\":0,\"b\":0})\n",
    "    fig.show()\n",
    "    \n",
    "    \n",
    "    \n",
    "def luminosity_parameters(luminosity):\n",
    "    \n",
    "    luminositylow = luminosity[0]\n",
    "    luminosityhigh = luminosity[1]    \n",
    "    \n",
    "    data = pd.read_csv(\"/home/frakesmart/Desktop/LIPO/LiPO-MaSS/date.csv\")\n",
    "    df_luminosity_updated = data[data.luminosity.between(luminositylow,luminosityhigh)]\n",
    "    df_luminosity_updated.to_csv('luminosity.csv')\n",
    "    \n",
    "    \n",
    "    df_luminosity = pd.read_csv(\"/home/frakesmart/Desktop/LIPO/LiPO-MaSS/luminosity.csv\")\n",
    "    fig = px.scatter_mapbox(df_luminosity, lat=\"Latitude\", lon=\"Longitude\", color=\"luminosity\",size=\"luminosity\", hover_name=\"luminosity\", hover_data=[\"luminosity\"],\n",
    "                         size_max=15, zoom=12, height=600)\n",
    "    fig.update_layout(mapbox_style=\"open-street-map\")\n",
    "    fig.update_layout(margin={\"r\":0,\"t\":0,\"l\":0,\"b\":0})\n",
    "    fig.show()\n",
    "    \n",
    "    \n",
    "    \n",
    "def pm1s_parameters(pm1s):\n",
    "    \n",
    "    pm1slow = pm1s[0]\n",
    "    pm1shigh = pm1s[1]    \n",
    "    \n",
    "    data = pd.read_csv(\"/home/frakesmart/Desktop/LIPO/LiPO-MaSS/date.csv\")\n",
    "    df_pm1s_updated = data[data.pm1s.between(pm1slow,pm1shigh)]\n",
    "    df_pm1s_updated.to_csv('pm1s.csv')\n",
    "    \n",
    "    \n",
    "    df_pm1s = pd.read_csv(\"/home/frakesmart/Desktop/LIPO/LiPO-MaSS/pm1s.csv\")\n",
    "    fig = px.scatter_mapbox(df_pm1s, lat=\"Latitude\", lon=\"Longitude\", color=\"pm1s\",size=\"pm1s\", hover_name=\"pm1s\", hover_data=[\"pm1s\"],\n",
    "                         size_max=15, zoom=12, height=600)\n",
    "    fig.update_layout(mapbox_style=\"open-street-map\")\n",
    "    fig.update_layout(margin={\"r\":0,\"t\":0,\"l\":0,\"b\":0})\n",
    "    fig.show()\n",
    "    \n",
    "    \n",
    "    \n",
    "def pm25s_parameters(pm25s):\n",
    "    \n",
    "    pm25slow = pm25s[0]\n",
    "    pm25shigh = pm25s[1]    \n",
    "    \n",
    "    data = pd.read_csv(\"/home/frakesmart/Desktop/LIPO/LiPO-MaSS/date.csv\")\n",
    "    df_pm25s_updated = data[data.pm25s.between(pm25slow,pm25shigh)]\n",
    "    df_pm25s_updated.to_csv('pm25s.csv')\n",
    "    \n",
    "    \n",
    "    df_pm25s = pd.read_csv(\"/home/frakesmart/Desktop/LIPO/LiPO-MaSS/pm25s.csv\")\n",
    "    fig = px.scatter_mapbox(df_pm25s, lat=\"Latitude\", lon=\"Longitude\", color=\"pm25s\",size=\"pm25s\", hover_name=\"pm25s\", hover_data=[\"pm25s\"],\n",
    "                         size_max=15, zoom=12, height=600)\n",
    "    fig.update_layout(mapbox_style=\"open-street-map\")\n",
    "    fig.update_layout(margin={\"r\":0,\"t\":0,\"l\":0,\"b\":0})\n",
    "    fig.show()\n",
    "    \n",
    "    \n",
    "\n",
    "    \n",
    "def pm10s_parameters(pm10s):\n",
    "    \n",
    "    pm10slow = pm10s[0]\n",
    "    pm10shigh = pm10s[1]    \n",
    "    \n",
    "    data = pd.read_csv(\"/home/frakesmart/Desktop/LIPO/LiPO-MaSS/date.csv\")\n",
    "    df_pm10s_updated = data[data.pm10s.between(pm10slow,pm10shigh)]\n",
    "    df_pm10s_updated.to_csv('pm10s.csv')\n",
    "    \n",
    "    \n",
    "    df_pm10s = pd.read_csv(\"/home/frakesmart/Desktop/LIPO/LiPO-MaSS/pm10s.csv\")\n",
    "    fig = px.scatter_mapbox(df_pm10s, lat=\"Latitude\", lon=\"Longitude\", color=\"pm10s\",size=\"pm10s\", hover_name=\"pm10s\", hover_data=[\"pm10s\"],\n",
    "                         size_max=15, zoom=12, height=600)\n",
    "    fig.update_layout(mapbox_style=\"open-street-map\")\n",
    "    fig.update_layout(margin={\"r\":0,\"t\":0,\"l\":0,\"b\":0})\n",
    "    fig.show()\n",
    "    \n",
    "    \n",
    "    \n",
    "def pm1e_parameters(pm1e):\n",
    "    \n",
    "    pm1elow = pm1e[0]\n",
    "    pm1ehigh = pm1e[1]    \n",
    "    \n",
    "    data = pd.read_csv(\"/home/frakesmart/Desktop/LIPO/LiPO-MaSS/date.csv\")\n",
    "    df_pm1e_updated = data[data.pm1e.between(pm1elow,pm1ehigh)]\n",
    "    df_pm1e_updated.to_csv('pm1e.csv')\n",
    "    \n",
    "    \n",
    "    df_pm1e = pd.read_csv(\"/home/frakesmart/Desktop/LIPO/LiPO-MaSS/pm1e.csv\")\n",
    "    fig = px.scatter_mapbox(df_pm1e, lat=\"Latitude\", lon=\"Longitude\", color=\"pm1e\",size=\"pm1e\", hover_name=\"pm1e\", hover_data=[\"pm1e\"],\n",
    "                         size_max=15, zoom=12, height=600)\n",
    "    fig.update_layout(mapbox_style=\"open-street-map\")\n",
    "    fig.update_layout(margin={\"r\":0,\"t\":0,\"l\":0,\"b\":0})\n",
    "    fig.show()\n",
    "    \n",
    "    \n",
    "    \n",
    "def pm25e_parameters(pm25e):\n",
    "    \n",
    "    pm25elow = pm25e[0]\n",
    "    pm25ehigh = pm25e[1]    \n",
    "    \n",
    "    data = pd.read_csv(\"/home/frakesmart/Desktop/LIPO/LiPO-MaSS/date.csv\")\n",
    "    df_pm25e_updated = data[data.pm25e.between(pm25elow,pm25ehigh)]\n",
    "    df_pm25e_updated.to_csv('pm25e.csv')\n",
    "    \n",
    "    \n",
    "    df_pm25e = pd.read_csv(\"/home/frakesmart/Desktop/LIPO/LiPO-MaSS/pm25e.csv\")\n",
    "    fig = px.scatter_mapbox(df_pm25e, lat=\"Latitude\", lon=\"Longitude\", color=\"pm25e\",size=\"pm25e\", hover_name=\"pm25e\", hover_data=[\"pm25e\"],\n",
    "                         size_max=15, zoom=12, height=600)\n",
    "    fig.update_layout(mapbox_style=\"open-street-map\")\n",
    "    fig.update_layout(margin={\"r\":0,\"t\":0,\"l\":0,\"b\":0})\n",
    "    fig.show()\n",
    "    \n",
    "    \n",
    "    \n",
    "def pm10e_parameters(pm10e):\n",
    "    \n",
    "    pm10elow = pm10e[0]\n",
    "    pm10ehigh = pm10e[1]    \n",
    "    \n",
    "    data = pd.read_csv(\"/home/frakesmart/Desktop/LIPO/LiPO-MaSS/date.csv\")\n",
    "    df_pm10e_updated = data[data.pm10e.between(pm10elow,pm10ehigh)]\n",
    "    df_pm10e_updated.to_csv('pm10e.csv')\n",
    "    \n",
    "    \n",
    "    df_pm10e = pd.read_csv(\"/home/frakesmart/Desktop/LIPO/LiPO-MaSS/pm10e.csv\")\n",
    "    fig = px.scatter_mapbox(df_pm10e, lat=\"Latitude\", lon=\"Longitude\", color=\"pm10e\",size=\"pm10e\", hover_name=\"pm10e\", hover_data=[\"pm10e\"],\n",
    "                         size_max=15, zoom=12, height=600)\n",
    "    fig.update_layout(mapbox_style=\"open-street-map\")\n",
    "    fig.update_layout(margin={\"r\":0,\"t\":0,\"l\":0,\"b\":0})\n",
    "    fig.show()\n",
    "    \n",
    "    \n",
    "    \n",
    "def a03um01Lair_parameters(a03um01Lair):\n",
    "    \n",
    "    a03um01Lairlow = a03um01Lair[0]\n",
    "    a03um01Lairhigh = a03um01Lair[1]    \n",
    "    \n",
    "    data = pd.read_csv(\"/home/frakesmart/Desktop/LIPO/LiPO-MaSS/date.csv\")\n",
    "    df_a03um01Lair_updated = data[data.a03um01Lair.between(a03um01Lairlow,a03um01Lairhigh)]\n",
    "    df_a03um01Lair_updated.to_csv('a03um01Lair.csv')\n",
    "    \n",
    "    \n",
    "    df_a03um01Lair = pd.read_csv(\"/home/frakesmart/Desktop/LIPO/LiPO-MaSS/a03um01Lair.csv\")\n",
    "    fig = px.scatter_mapbox(df_a03um01Lair, lat=\"Latitude\", lon=\"Longitude\", color=\"a03um01Lair\",size=\"a03um01Lair\", hover_name=\"a03um01Lair\", hover_data=[\"a03um01Lair\"],\n",
    "                         size_max=15, zoom=12, height=600)\n",
    "    fig.update_layout(mapbox_style=\"open-street-map\")\n",
    "    fig.update_layout(margin={\"r\":0,\"t\":0,\"l\":0,\"b\":0})\n",
    "    fig.show()\n",
    "    \n",
    "    \n",
    "    \n",
    "def a05um01Lair_parameters(a05um01Lair):\n",
    "    \n",
    "    a05um01Lairlow = a05um01Lair[0]\n",
    "    a05um01Lairhigh = a05um01Lair[1]    \n",
    "    \n",
    "    data = pd.read_csv(\"/home/frakesmart/Desktop/LIPO/LiPO-MaSS/date.csv\")\n",
    "    df_a05um01Lair_updated = data[data.a05um01Lair.between(a05um01Lairlow,a05um01Lairhigh)]\n",
    "    df_a05um01Lair_updated.to_csv('a05um01Lair.csv')\n",
    "    \n",
    "    \n",
    "    df_a05um01Lair = pd.read_csv(\"/home/frakesmart/Desktop/LIPO/LiPO-MaSS/a05um01Lair.csv\")\n",
    "    fig = px.scatter_mapbox(df_a05um01Lair, lat=\"Latitude\", lon=\"Longitude\", color=\"a05um01Lair\",size=\"a05um01Lair\", hover_name=\"a05um01Lair\", hover_data=[\"a05um01Lair\"],\n",
    "                         size_max=15, zoom=12, height=600)\n",
    "    fig.update_layout(mapbox_style=\"open-street-map\")\n",
    "    fig.update_layout(margin={\"r\":0,\"t\":0,\"l\":0,\"b\":0})\n",
    "    fig.show()\n",
    "    \n",
    "    \n",
    "    \n",
    "def a1um01Lair_parameters(a1um01Lair):\n",
    "    \n",
    "    a1um01Lairlow = a1um01Lair[0]\n",
    "    a1um01Lairhigh = a1um01Lair[1]    \n",
    "    \n",
    "    data = pd.read_csv(\"/home/frakesmart/Desktop/LIPO/LiPO-MaSS/date.csv\")\n",
    "    df_a1um01Lair_updated = data[data.a1um01Lair.between(a1um01Lairlow,a1um01Lairhigh)]\n",
    "    df_a1um01Lair_updated.to_csv('a1um01Lair.csv')\n",
    "    \n",
    "    \n",
    "    df_a1um01Lair = pd.read_csv(\"/home/frakesmart/Desktop/LIPO/LiPO-MaSS/a1um01Lair.csv\")\n",
    "    fig = px.scatter_mapbox(df_a1um01Lair, lat=\"Latitude\", lon=\"Longitude\", color=\"a1um01Lair\",size=\"a1um01Lair\", hover_name=\"a1um01Lair\", hover_data=[\"a1um01Lair\"],\n",
    "                         size_max=15, zoom=12, height=600)\n",
    "    fig.update_layout(mapbox_style=\"open-street-map\")\n",
    "    fig.update_layout(margin={\"r\":0,\"t\":0,\"l\":0,\"b\":0})\n",
    "    fig.show()\n",
    "    \n",
    "    \n",
    "    \n",
    "def a25um01Lair_parameters(a25um01Lair):\n",
    "    \n",
    "    a25um01Lairlow = a25um01Lair[0]\n",
    "    a25um01Lairhigh = a25um01Lair[1]    \n",
    "    \n",
    "    data = pd.read_csv(\"/home/frakesmart/Desktop/LIPO/LiPO-MaSS/date.csv\")\n",
    "    df_a25um01Lair_updated = data[data.a25um01Lair.between(a25um01Lairlow,a25um01Lairhigh)]\n",
    "    df_a25um01Lair_updated.to_csv('a25um01Lair.csv')\n",
    "    \n",
    "    \n",
    "    df_a25um01Lair = pd.read_csv(\"/home/frakesmart/Desktop/LIPO/LiPO-MaSS/a25um01Lair.csv\")\n",
    "    fig = px.scatter_mapbox(df_a25um01Lair, lat=\"Latitude\", lon=\"Longitude\", color=\"a25um01Lair\",size=\"a25um01Lair\", hover_name=\"a25um01Lair\", hover_data=[\"a25um01Lair\"],\n",
    "                         size_max=15, zoom=12, height=600)\n",
    "    fig.update_layout(mapbox_style=\"open-street-map\")\n",
    "    fig.update_layout(margin={\"r\":0,\"t\":0,\"l\":0,\"b\":0})\n",
    "    fig.show()\n",
    "    \n",
    "    \n",
    "    \n",
    "def a5um01Lair_parameters(a5um01Lair):\n",
    "    \n",
    "    a5um01Lairlow = a5um01Lair[0]\n",
    "    a5um01Lairhigh = a5um01Lair[1]    \n",
    "    \n",
    "    data = pd.read_csv(\"/home/frakesmart/Desktop/LIPO/LiPO-MaSS/date.csv\")\n",
    "    df_a5um01Lair_updated = data[data.a5um01Lair.between(a5um01Lairlow,a5um01Lairhigh)]\n",
    "    df_a5um01Lair_updated.to_csv('a5um01Lair.csv')\n",
    "    \n",
    "    \n",
    "    df_a5um01Lair = pd.read_csv(\"/home/frakesmart/Desktop/LIPO/LiPO-MaSS/a5um01Lair.csv\")\n",
    "    fig = px.scatter_mapbox(df_a5um01Lair, lat=\"Latitude\", lon=\"Longitude\", color=\"a5um01Lair\",size=\"a5um01Lair\", hover_name=\"a5um01Lair\", hover_data=[\"a5um01Lair\"],\n",
    "                         size_max=15, zoom=12, height=600)\n",
    "    fig.update_layout(mapbox_style=\"open-street-map\")\n",
    "    fig.update_layout(margin={\"r\":0,\"t\":0,\"l\":0,\"b\":0})\n",
    "    fig.show()\n",
    "    \n",
    "    \n",
    "    \n",
    "def a10um01Lair_parameters(a10um01Lair):\n",
    "    \n",
    "    a10um01Lairlow = a10um01Lair[0]\n",
    "    a10um01Lairhigh = a10um01Lair[1]    \n",
    "    \n",
    "    data = pd.read_csv(\"/home/frakesmart/Desktop/LIPO/LiPO-MaSS/date.csv\")\n",
    "    df_a10um01Lair_updated = data[data.a10um01Lair.between(a10um01Lairlow,a10um01Lairhigh)]\n",
    "    df_a10um01Lair_updated.to_csv('a10um01Lair.csv')\n",
    "    \n",
    "    \n",
    "    df_a10um01Lair = pd.read_csv(\"/home/frakesmart/Desktop/LIPO/LiPO-MaSS/a10um01Lair.csv\")\n",
    "    fig = px.scatter_mapbox(df_a10um01Lair, lat=\"Latitude\", lon=\"Longitude\", color=\"a10um01Lair\",size=\"a10um01Lair\", hover_name=\"a10um01Lair\", hover_data=[\"a10um01Lair\"],\n",
    "                         size_max=15, zoom=12, height=600)\n",
    "    fig.update_layout(mapbox_style=\"open-street-map\")\n",
    "    fig.update_layout(margin={\"r\":0,\"t\":0,\"l\":0,\"b\":0})\n",
    "    fig.show()\n",
    "    \n",
    "    \n",
    "    \n",
    "def Co2_parameters(Co2):\n",
    "    \n",
    "    Co2low = Co2[0]\n",
    "    Co2high = Co2[1]    \n",
    "    \n",
    "    data = pd.read_csv(\"/home/frakesmart/Desktop/LIPO/LiPO-MaSS/date.csv\")\n",
    "    df_Co2_updated = data[data.Co2.between(Co2low,Co2high)]\n",
    "    df_Co2_updated.to_csv('Co2.csv')\n",
    "    \n",
    "    \n",
    "    df_Co2 = pd.read_csv(\"/home/frakesmart/Desktop/LIPO/LiPO-MaSS/Co2.csv\")\n",
    "    fig = px.scatter_mapbox(df_Co2, lat=\"Latitude\", lon=\"Longitude\", color=\"Co2\",size=\"Co2\", hover_name=\"Co2\", hover_data=[\"Co2\"],\n",
    "                         size_max=15, zoom=12, height=600)\n",
    "    fig.update_layout(mapbox_style=\"open-street-map\")\n",
    "    fig.update_layout(margin={\"r\":0,\"t\":0,\"l\":0,\"b\":0})\n",
    "    fig.show()\n",
    "    \n",
    "    \n",
    "    \n",
    "def Temp_parameters(Temp):\n",
    "    \n",
    "    Templow = Temp[0]\n",
    "    Temphigh = Temp[1]    \n",
    "    \n",
    "    data = pd.read_csv(\"/home/frakesmart/Desktop/LIPO/LiPO-MaSS/date.csv\")\n",
    "    df_Temp_updated = data[data.Temp.between(Templow,Temphigh)]\n",
    "    df_Temp_updated.to_csv('Temp.csv')\n",
    "    \n",
    "    \n",
    "    df_Temp = pd.read_csv(\"/home/frakesmart/Desktop/LIPO/LiPO-MaSS/Temp.csv\")\n",
    "    fig = px.scatter_mapbox(df_Temp, lat=\"Latitude\", lon=\"Longitude\", color=\"Temp\",size=\"Temp\", hover_name=\"Temp\", hover_data=[\"Temp\"],\n",
    "                         size_max=15, zoom=12, height=600)\n",
    "    fig.update_layout(mapbox_style=\"open-street-map\")\n",
    "    fig.update_layout(margin={\"r\":0,\"t\":0,\"l\":0,\"b\":0})\n",
    "    fig.show()\n",
    "    \n",
    "    \n",
    "    \n",
    "def Hum_parameters(Hum):\n",
    "    \n",
    "    Humlow = Hum[0]\n",
    "    Humhigh = Hum[1]    \n",
    "    \n",
    "    data = pd.read_csv(\"/home/frakesmart/Desktop/LIPO/LiPO-MaSS/date.csv\")\n",
    "    df_Hum_updated = data[data.Hum.between(Humlow,Humhigh)]\n",
    "    df_Hum_updated.to_csv('Hum.csv')\n",
    "    \n",
    "    \n",
    "    df_Hum = pd.read_csv(\"/home/frakesmart/Desktop/LIPO/LiPO-MaSS/Hum.csv\")\n",
    "    fig = px.scatter_mapbox(df_Hum, lat=\"Latitude\", lon=\"Longitude\", color=\"Hum\",size=\"Hum\", hover_name=\"Hum\", hover_data=[\"Hum\"],\n",
    "                         size_max=15, zoom=12, height=600)\n",
    "    fig.update_layout(mapbox_style=\"open-street-map\")\n",
    "    fig.update_layout(margin={\"r\":0,\"t\":0,\"l\":0,\"b\":0})\n",
    "    fig.show()"
   ]
  },
  {
   "cell_type": "code",
   "execution_count": 7,
   "id": "ca7b2f5c",
   "metadata": {},
   "outputs": [],
   "source": [
    "sensordata = widgets.interactive_output(sensor_data_parameters, \n",
    "          {'sensordata': sensor_data_widget\n",
    "          })\n",
    "\n",
    "date = widgets.interactive_output(date_parameters, \n",
    "          {'start': start_date_widget, \n",
    "           'end': end_date_widget\n",
    "          })\n",
    "\n",
    "speed = widgets.interactive_output(speed_parameters, \n",
    "          {'speed': speed_widget\n",
    "          })\n",
    "\n",
    "altitude = widgets.interactive_output(altitude_parameters, \n",
    "          {'altitude': Altitude_widget\n",
    "          })\n",
    "\n",
    "ir = widgets.interactive_output(ir_parameters, \n",
    "          {'ir': ir_widget\n",
    "          })\n",
    "\n",
    "luminosity = widgets.interactive_output(luminosity_parameters, \n",
    "          {'luminosity': luminosity_widget\n",
    "          })\n",
    "\n",
    "pm1s = widgets.interactive_output(pm1s_parameters, \n",
    "          {'pm1s': pm1s_widget\n",
    "          })\n",
    "\n",
    "pm25s = widgets.interactive_output(pm25s_parameters, \n",
    "          {'pm25s': pm25s_widget\n",
    "          })\n",
    "\n",
    "pm10s = widgets.interactive_output(pm10s_parameters, \n",
    "          {'pm10s': pm10s_widget\n",
    "          })\n",
    "\n",
    "pm1e = widgets.interactive_output(pm1e_parameters, \n",
    "          {'pm1e': pm1e_widget\n",
    "          })\n",
    "\n",
    "pm25e = widgets.interactive_output(pm25e_parameters, \n",
    "          {'pm25e': pm25e_widget\n",
    "          })\n",
    "\n",
    "pm10e = widgets.interactive_output(pm10e_parameters, \n",
    "          {'pm10e': pm10e_widget\n",
    "          })\n",
    "\n",
    "a03um01Lair = widgets.interactive_output(a03um01Lair_parameters, \n",
    "          {'a03um01Lair': a03um01Lair_widget\n",
    "          })\n",
    "\n",
    "a05um01Lair = widgets.interactive_output(a05um01Lair_parameters, \n",
    "          {'a05um01Lair': a05um01Lair_widget\n",
    "          })\n",
    "\n",
    "a1um01Lair = widgets.interactive_output(a1um01Lair_parameters, \n",
    "          {'a1um01Lair': a1um01Lair_widget\n",
    "          })\n",
    "\n",
    "a25um01Lair = widgets.interactive_output(a25um01Lair_parameters, \n",
    "          {'a25um01Lair': a25um01Lair_widget\n",
    "          })\n",
    "\n",
    "a5um01Lair = widgets.interactive_output(a5um01Lair_parameters, \n",
    "          {'a5um01Lair': a5um01Lair_widget\n",
    "          })\n",
    "\n",
    "a10um01Lair = widgets.interactive_output(a10um01Lair_parameters, \n",
    "          {'a10um01Lair': a10um01Lair_widget\n",
    "          })\n",
    "\n",
    "Co2 = widgets.interactive_output(Co2_parameters, \n",
    "          {'Co2': Co2_widget\n",
    "          })\n",
    "\n",
    "Temp = widgets.interactive_output(Temp_parameters, \n",
    "          {'Temp': Temp_widget\n",
    "          })\n",
    "\n",
    "Hum = widgets.interactive_output(Hum_parameters, \n",
    "          {'Hum': Hum_widget\n",
    "          })"
   ]
  },
  {
   "cell_type": "code",
   "execution_count": 8,
   "id": "f69ddfcc",
   "metadata": {},
   "outputs": [],
   "source": [
    "sensordata_ui = widgets.HBox(\n",
    "        [widgets.VBox(\n",
    "          [widgets.Label(\"Select your preferred Data:\"), sensor_data_widget]),\n",
    "        ], \n",
    "        layout=Layout(display='flex', flex_flow='row wrap', justify_content='space-between')\n",
    "    )\n",
    "\n",
    "speed_ui = widgets.HBox(\n",
    "        [widgets.VBox(\n",
    "          [widgets.Label(\"2021-07-01 <= YOUR DATE <= 2021-12-31\"), start_date_widget, end_date_widget]),\n",
    "         speed_widget,\n",
    "         sensor_data_widget,\n",
    "         speed\n",
    "        ], \n",
    "        layout=Layout(display='flex', flex_flow='row wrap', justify_content='space-between')\n",
    "    )\n",
    "\n",
    "altitude_ui = widgets.HBox(\n",
    "        [widgets.VBox(\n",
    "          [widgets.Label(\"2021-07-01 <= YOUR DATE <= 2021-12-31\"), start_date_widget, end_date_widget]),\n",
    "         Altitude_widget,\n",
    "         sensor_data_widget\n",
    "        ], \n",
    "        layout=Layout(display='flex', flex_flow='row wrap', justify_content='space-between')\n",
    "    )\n",
    "\n",
    "ir_ui = widgets.HBox(\n",
    "        [widgets.VBox(\n",
    "          [widgets.Label(\"2021-07-01 <= YOUR DATE <= 2021-12-31\"), start_date_widget, end_date_widget]),\n",
    "         ir_widget,\n",
    "         sensor_data_widget\n",
    "        ], \n",
    "        layout=Layout(display='flex', flex_flow='row wrap', justify_content='space-between')\n",
    "    )\n",
    "\n",
    "luminosity_ui = widgets.HBox(\n",
    "        [widgets.VBox(\n",
    "          [widgets.Label(\"2021-07-01 <= YOUR DATE <= 2021-12-31\"), start_date_widget, end_date_widget]),\n",
    "         luminosity_widget,\n",
    "         sensor_data_widget\n",
    "        ], \n",
    "        layout=Layout(display='flex', flex_flow='row wrap', justify_content='space-between')\n",
    "    )\n",
    "\n",
    "pm1s_ui = widgets.HBox(\n",
    "        [widgets.VBox(\n",
    "          [widgets.Label(\"2021-07-01 <= YOUR DATE <= 2021-12-31\"), start_date_widget, end_date_widget]),\n",
    "         pm1s_widget,\n",
    "         sensor_data_widget\n",
    "        ], \n",
    "        layout=Layout(display='flex', flex_flow='row wrap', justify_content='space-between')\n",
    "    )\n",
    "\n",
    "pm25s_ui = widgets.HBox(\n",
    "        [widgets.VBox(\n",
    "          [widgets.Label(\"2021-07-01 <= YOUR DATE <= 2021-12-31\"), start_date_widget, end_date_widget]),\n",
    "         pm25s_widget,\n",
    "         sensor_data_widget\n",
    "        ], \n",
    "        layout=Layout(display='flex', flex_flow='row wrap', justify_content='space-between')\n",
    "    )\n",
    "\n",
    "pm10s_ui = widgets.HBox(\n",
    "        [widgets.VBox(\n",
    "          [widgets.Label(\"2021-07-01 <= YOUR DATE <= 2021-12-31\"), start_date_widget, end_date_widget]),\n",
    "         pm10s_widget,\n",
    "         sensor_data_widget\n",
    "        ], \n",
    "        layout=Layout(display='flex', flex_flow='row wrap', justify_content='space-between')\n",
    "    )\n",
    "\n",
    "pm1e_ui = widgets.HBox(\n",
    "        [widgets.VBox(\n",
    "          [widgets.Label(\"2021-07-01 <= YOUR DATE <= 2021-12-31\"), start_date_widget, end_date_widget]),\n",
    "         pm1e_widget,\n",
    "         sensor_data_widget\n",
    "        ], \n",
    "        layout=Layout(display='flex', flex_flow='row wrap', justify_content='space-between')\n",
    "    )\n",
    "\n",
    "pm25e_ui = widgets.HBox(\n",
    "        [widgets.VBox(\n",
    "          [widgets.Label(\"2021-07-01 <= YOUR DATE <= 2021-12-31\"), start_date_widget, end_date_widget]),\n",
    "         pm25e_widget,\n",
    "         sensor_data_widget\n",
    "        ], \n",
    "        layout=Layout(display='flex', flex_flow='row wrap', justify_content='space-between')\n",
    "    )\n",
    "\n",
    "pm10e_ui = widgets.HBox(\n",
    "        [widgets.VBox(\n",
    "          [widgets.Label(\"2021-07-01 <= YOUR DATE <= 2021-12-31\"), start_date_widget, end_date_widget]),\n",
    "         pm10e_widget,\n",
    "         sensor_data_widget\n",
    "        ], \n",
    "        layout=Layout(display='flex', flex_flow='row wrap', justify_content='space-between')\n",
    "    )\n",
    "\n",
    "a03um01Lair_ui = widgets.HBox(\n",
    "        [widgets.VBox(\n",
    "          [widgets.Label(\"2021-07-01 <= YOUR DATE <= 2021-12-31\"), start_date_widget, end_date_widget]),\n",
    "         a03um01Lair_widget,\n",
    "         sensor_data_widget\n",
    "        ], \n",
    "        layout=Layout(display='flex', flex_flow='row wrap', justify_content='space-between')\n",
    "    )\n",
    "\n",
    "a05um01Lair_ui = widgets.HBox(\n",
    "        [widgets.VBox(\n",
    "          [widgets.Label(\"2021-07-01 <= YOUR DATE <= 2021-12-31\"), start_date_widget, end_date_widget]),\n",
    "         a05um01Lair_widget,\n",
    "         sensor_data_widget\n",
    "        ], \n",
    "        layout=Layout(display='flex', flex_flow='row wrap', justify_content='space-between')\n",
    "    )\n",
    "\n",
    "a1um01Lair_ui = widgets.HBox(\n",
    "        [widgets.VBox(\n",
    "          [widgets.Label(\"2021-07-01 <= YOUR DATE <= 2021-12-31\"), start_date_widget, end_date_widget]),\n",
    "         a1um01Lair_widget,\n",
    "         sensor_data_widget\n",
    "        ], \n",
    "        layout=Layout(display='flex', flex_flow='row wrap', justify_content='space-between')\n",
    "    )\n",
    "\n",
    "a25um01Lair_ui = widgets.HBox(\n",
    "        [widgets.VBox(\n",
    "          [widgets.Label(\"2021-07-01 <= YOUR DATE <= 2021-12-31\"), start_date_widget, end_date_widget]),\n",
    "         a25um01Lair_widget,\n",
    "         sensor_data_widget\n",
    "        ], \n",
    "        layout=Layout(display='flex', flex_flow='row wrap', justify_content='space-between')\n",
    "    )\n",
    "\n",
    "a5um01Lair_ui = widgets.HBox(\n",
    "        [widgets.VBox(\n",
    "          [widgets.Label(\"2021-07-01 <= YOUR DATE <= 2021-12-31\"), start_date_widget, end_date_widget]),\n",
    "         a5um01Lair_widget,\n",
    "         sensor_data_widget\n",
    "        ], \n",
    "        layout=Layout(display='flex', flex_flow='row wrap', justify_content='space-between')\n",
    "    )\n",
    "\n",
    "a10um01Lair_ui = widgets.HBox(\n",
    "        [widgets.VBox(\n",
    "          [widgets.Label(\"2021-07-01 <= YOUR DATE <= 2021-12-31\"), start_date_widget, end_date_widget]),\n",
    "         a10um01Lair_widget,\n",
    "         sensor_data_widget\n",
    "        ], \n",
    "        layout=Layout(display='flex', flex_flow='row wrap', justify_content='space-between')\n",
    "    )\n",
    "\n",
    "Co2_ui = widgets.HBox(\n",
    "        [widgets.VBox(\n",
    "          [widgets.Label(\"2021-07-01 <= YOUR DATE <= 2021-12-31\"), start_date_widget, end_date_widget]),\n",
    "         Co2_widget,\n",
    "         sensor_data_widget\n",
    "        ], \n",
    "        layout=Layout(display='flex', flex_flow='row wrap', justify_content='space-between')\n",
    "    )\n",
    "\n",
    "Temp_ui = widgets.HBox(\n",
    "        [widgets.VBox(\n",
    "          [widgets.Label(\"2021-07-01 <= YOUR DATE <= 2021-12-31\"), start_date_widget, end_date_widget]),\n",
    "         Temp_widget,\n",
    "         sensor_data_widget\n",
    "        ], \n",
    "        layout=Layout(display='flex', flex_flow='row wrap', justify_content='space-between')\n",
    "    )\n",
    "\n",
    "Hum_ui = widgets.HBox(\n",
    "        [widgets.VBox(\n",
    "          [widgets.Label(\"2021-07-01 <= YOUR DATE <= 2021-12-31\"), start_date_widget, end_date_widget]),\n",
    "         Hum_widget,\n",
    "         sensor_data_widget\n",
    "        ], \n",
    "        layout=Layout(display='flex', flex_flow='row wrap', justify_content='space-between')\n",
    "    )"
   ]
  },
  {
   "cell_type": "code",
   "execution_count": 9,
   "id": "90702566",
   "metadata": {},
   "outputs": [
    {
     "data": {
      "application/vnd.jupyter.widget-view+json": {
       "model_id": "7d3efdaa73d047df9fd3d2ee02b8fe7e",
       "version_major": 2,
       "version_minor": 0
      },
      "text/plain": [
       "HBox(children=(VBox(children=(Label(value='2021-07-01 <= YOUR DATE <= 2021-12-31'), DatePicker(value=None, des…"
      ]
     },
     "metadata": {},
     "output_type": "display_data"
    },
    {
     "data": {
      "application/vnd.jupyter.widget-view+json": {
       "model_id": "4d0cc360171749cd8ed6b62c6be5f54e",
       "version_major": 2,
       "version_minor": 0
      },
      "text/plain": [
       "Output()"
      ]
     },
     "metadata": {},
     "output_type": "display_data"
    },
    {
     "data": {
      "application/vnd.jupyter.widget-view+json": {
       "model_id": "be004ecedb9a480887e29fcf20dfd720",
       "version_major": 2,
       "version_minor": 0
      },
      "text/plain": [
       "HBox(children=(VBox(children=(Label(value='2021-07-01 <= YOUR DATE <= 2021-12-31'), DatePicker(value=None, des…"
      ]
     },
     "metadata": {},
     "output_type": "display_data"
    },
    {
     "data": {
      "application/vnd.jupyter.widget-view+json": {
       "model_id": "21501cf7448b4326a2e121dee9f8463d",
       "version_major": 2,
       "version_minor": 0
      },
      "text/plain": [
       "Output()"
      ]
     },
     "metadata": {},
     "output_type": "display_data"
    },
    {
     "data": {
      "application/vnd.jupyter.widget-view+json": {
       "model_id": "412ae3d7b3d34630ab7151fb13aa3edf",
       "version_major": 2,
       "version_minor": 0
      },
      "text/plain": [
       "HBox(children=(VBox(children=(Label(value='2021-07-01 <= YOUR DATE <= 2021-12-31'), DatePicker(value=None, des…"
      ]
     },
     "metadata": {},
     "output_type": "display_data"
    },
    {
     "data": {
      "application/vnd.jupyter.widget-view+json": {
       "model_id": "330ee01d12834c088a1ce19f36c90788",
       "version_major": 2,
       "version_minor": 0
      },
      "text/plain": [
       "Output()"
      ]
     },
     "metadata": {},
     "output_type": "display_data"
    },
    {
     "data": {
      "application/vnd.jupyter.widget-view+json": {
       "model_id": "92e7d69e586e48e49e10d30d673f9f55",
       "version_major": 2,
       "version_minor": 0
      },
      "text/plain": [
       "HBox(children=(VBox(children=(Label(value='2021-07-01 <= YOUR DATE <= 2021-12-31'), DatePicker(value=None, des…"
      ]
     },
     "metadata": {},
     "output_type": "display_data"
    },
    {
     "data": {
      "application/vnd.jupyter.widget-view+json": {
       "model_id": "43ddb4709901479b90928f4f2ad3c3bf",
       "version_major": 2,
       "version_minor": 0
      },
      "text/plain": [
       "Output()"
      ]
     },
     "metadata": {},
     "output_type": "display_data"
    },
    {
     "data": {
      "application/vnd.jupyter.widget-view+json": {
       "model_id": "536dd71f691a465d8f3def89192428db",
       "version_major": 2,
       "version_minor": 0
      },
      "text/plain": [
       "HBox(children=(VBox(children=(Label(value='2021-07-01 <= YOUR DATE <= 2021-12-31'), DatePicker(value=None, des…"
      ]
     },
     "metadata": {},
     "output_type": "display_data"
    },
    {
     "data": {
      "application/vnd.jupyter.widget-view+json": {
       "model_id": "3889eaa744d9456fa060c24b46ef03ec",
       "version_major": 2,
       "version_minor": 0
      },
      "text/plain": [
       "Output()"
      ]
     },
     "metadata": {},
     "output_type": "display_data"
    },
    {
     "data": {
      "application/vnd.jupyter.widget-view+json": {
       "model_id": "a21073dcd1d044caa4520b77a4853bdb",
       "version_major": 2,
       "version_minor": 0
      },
      "text/plain": [
       "HBox(children=(VBox(children=(Label(value='2021-07-01 <= YOUR DATE <= 2021-12-31'), DatePicker(value=None, des…"
      ]
     },
     "metadata": {},
     "output_type": "display_data"
    },
    {
     "data": {
      "application/vnd.jupyter.widget-view+json": {
       "model_id": "1bb5946011d6427e82130ba66f14e8bf",
       "version_major": 2,
       "version_minor": 0
      },
      "text/plain": [
       "Output()"
      ]
     },
     "metadata": {},
     "output_type": "display_data"
    },
    {
     "data": {
      "application/vnd.jupyter.widget-view+json": {
       "model_id": "ad3f86d76eb84f788bc71a0958fd203d",
       "version_major": 2,
       "version_minor": 0
      },
      "text/plain": [
       "HBox(children=(VBox(children=(Label(value='2021-07-01 <= YOUR DATE <= 2021-12-31'), DatePicker(value=None, des…"
      ]
     },
     "metadata": {},
     "output_type": "display_data"
    },
    {
     "data": {
      "application/vnd.jupyter.widget-view+json": {
       "model_id": "e9849996eede42bbbcc80ae56490a157",
       "version_major": 2,
       "version_minor": 0
      },
      "text/plain": [
       "Output()"
      ]
     },
     "metadata": {},
     "output_type": "display_data"
    },
    {
     "data": {
      "application/vnd.jupyter.widget-view+json": {
       "model_id": "4e4348a1fe694b3e8a4384a4c91330b0",
       "version_major": 2,
       "version_minor": 0
      },
      "text/plain": [
       "HBox(children=(VBox(children=(Label(value='2021-07-01 <= YOUR DATE <= 2021-12-31'), DatePicker(value=None, des…"
      ]
     },
     "metadata": {},
     "output_type": "display_data"
    },
    {
     "data": {
      "application/vnd.jupyter.widget-view+json": {
       "model_id": "a03bb9bad7b9488fa5eb7f53b0a2590a",
       "version_major": 2,
       "version_minor": 0
      },
      "text/plain": [
       "Output()"
      ]
     },
     "metadata": {},
     "output_type": "display_data"
    },
    {
     "data": {
      "application/vnd.jupyter.widget-view+json": {
       "model_id": "39ff470e8bb44deda6cc3dc6c47c12b0",
       "version_major": 2,
       "version_minor": 0
      },
      "text/plain": [
       "HBox(children=(VBox(children=(Label(value='2021-07-01 <= YOUR DATE <= 2021-12-31'), DatePicker(value=None, des…"
      ]
     },
     "metadata": {},
     "output_type": "display_data"
    },
    {
     "data": {
      "application/vnd.jupyter.widget-view+json": {
       "model_id": "927e34cee95b4f4796223cead8d9d90c",
       "version_major": 2,
       "version_minor": 0
      },
      "text/plain": [
       "Output()"
      ]
     },
     "metadata": {},
     "output_type": "display_data"
    },
    {
     "data": {
      "application/vnd.jupyter.widget-view+json": {
       "model_id": "327c4f464b174df4ab6eafa60521bb0e",
       "version_major": 2,
       "version_minor": 0
      },
      "text/plain": [
       "HBox(children=(VBox(children=(Label(value='2021-07-01 <= YOUR DATE <= 2021-12-31'), DatePicker(value=None, des…"
      ]
     },
     "metadata": {},
     "output_type": "display_data"
    },
    {
     "data": {
      "application/vnd.jupyter.widget-view+json": {
       "model_id": "b8d6c7c419bf48719bcdd19ce04b8c31",
       "version_major": 2,
       "version_minor": 0
      },
      "text/plain": [
       "Output()"
      ]
     },
     "metadata": {},
     "output_type": "display_data"
    },
    {
     "data": {
      "application/vnd.jupyter.widget-view+json": {
       "model_id": "a8bbcd3c184b4185974f43197bdbd792",
       "version_major": 2,
       "version_minor": 0
      },
      "text/plain": [
       "HBox(children=(VBox(children=(Label(value='2021-07-01 <= YOUR DATE <= 2021-12-31'), DatePicker(value=None, des…"
      ]
     },
     "metadata": {},
     "output_type": "display_data"
    },
    {
     "data": {
      "application/vnd.jupyter.widget-view+json": {
       "model_id": "9503d84764054123ab8442aaea10a916",
       "version_major": 2,
       "version_minor": 0
      },
      "text/plain": [
       "Output()"
      ]
     },
     "metadata": {},
     "output_type": "display_data"
    },
    {
     "data": {
      "application/vnd.jupyter.widget-view+json": {
       "model_id": "bc2f893181be462ab8ff4d11146fa59b",
       "version_major": 2,
       "version_minor": 0
      },
      "text/plain": [
       "HBox(children=(VBox(children=(Label(value='2021-07-01 <= YOUR DATE <= 2021-12-31'), DatePicker(value=None, des…"
      ]
     },
     "metadata": {},
     "output_type": "display_data"
    },
    {
     "data": {
      "application/vnd.jupyter.widget-view+json": {
       "model_id": "700a2067672a466a9bb7ab14dd1e2d45",
       "version_major": 2,
       "version_minor": 0
      },
      "text/plain": [
       "Output()"
      ]
     },
     "metadata": {},
     "output_type": "display_data"
    },
    {
     "data": {
      "application/vnd.jupyter.widget-view+json": {
       "model_id": "655a047a484b4a3a80d54fa6d7797202",
       "version_major": 2,
       "version_minor": 0
      },
      "text/plain": [
       "HBox(children=(VBox(children=(Label(value='2021-07-01 <= YOUR DATE <= 2021-12-31'), DatePicker(value=None, des…"
      ]
     },
     "metadata": {},
     "output_type": "display_data"
    },
    {
     "data": {
      "application/vnd.jupyter.widget-view+json": {
       "model_id": "4e858e44ecba42fbaaac391ae3909111",
       "version_major": 2,
       "version_minor": 0
      },
      "text/plain": [
       "Output()"
      ]
     },
     "metadata": {},
     "output_type": "display_data"
    },
    {
     "data": {
      "application/vnd.jupyter.widget-view+json": {
       "model_id": "e471894c8172402cb551afec2e63633c",
       "version_major": 2,
       "version_minor": 0
      },
      "text/plain": [
       "HBox(children=(VBox(children=(Label(value='2021-07-01 <= YOUR DATE <= 2021-12-31'), DatePicker(value=None, des…"
      ]
     },
     "metadata": {},
     "output_type": "display_data"
    },
    {
     "data": {
      "application/vnd.jupyter.widget-view+json": {
       "model_id": "9d82790ffa2444739885ff6e0aefa9af",
       "version_major": 2,
       "version_minor": 0
      },
      "text/plain": [
       "Output()"
      ]
     },
     "metadata": {},
     "output_type": "display_data"
    },
    {
     "data": {
      "application/vnd.jupyter.widget-view+json": {
       "model_id": "2950bfb5e4324939909704b5a573095d",
       "version_major": 2,
       "version_minor": 0
      },
      "text/plain": [
       "HBox(children=(VBox(children=(Label(value='2021-07-01 <= YOUR DATE <= 2021-12-31'), DatePicker(value=None, des…"
      ]
     },
     "metadata": {},
     "output_type": "display_data"
    },
    {
     "data": {
      "application/vnd.jupyter.widget-view+json": {
       "model_id": "4ac0ae45da204892ba492376b13aa742",
       "version_major": 2,
       "version_minor": 0
      },
      "text/plain": [
       "Output()"
      ]
     },
     "metadata": {},
     "output_type": "display_data"
    },
    {
     "data": {
      "application/vnd.jupyter.widget-view+json": {
       "model_id": "3f69d85ba0d44f689e1e6f493af82f8d",
       "version_major": 2,
       "version_minor": 0
      },
      "text/plain": [
       "HBox(children=(VBox(children=(Label(value='2021-07-01 <= YOUR DATE <= 2021-12-31'), DatePicker(value=None, des…"
      ]
     },
     "metadata": {},
     "output_type": "display_data"
    },
    {
     "data": {
      "application/vnd.jupyter.widget-view+json": {
       "model_id": "02d37c5403a5464c8954995b9247d783",
       "version_major": 2,
       "version_minor": 0
      },
      "text/plain": [
       "Output()"
      ]
     },
     "metadata": {},
     "output_type": "display_data"
    },
    {
     "data": {
      "application/vnd.jupyter.widget-view+json": {
       "model_id": "e8e785787e994115af4a615e6351b674",
       "version_major": 2,
       "version_minor": 0
      },
      "text/plain": [
       "HBox(children=(VBox(children=(Label(value='2021-07-01 <= YOUR DATE <= 2021-12-31'), DatePicker(value=None, des…"
      ]
     },
     "metadata": {},
     "output_type": "display_data"
    },
    {
     "data": {
      "application/vnd.jupyter.widget-view+json": {
       "model_id": "44ada1be5ec944458ef87bef4c9d2a01",
       "version_major": 2,
       "version_minor": 0
      },
      "text/plain": [
       "Output()"
      ]
     },
     "metadata": {},
     "output_type": "display_data"
    },
    {
     "data": {
      "application/vnd.jupyter.widget-view+json": {
       "model_id": "c63835c5e9964911a1eb425e63316c83",
       "version_major": 2,
       "version_minor": 0
      },
      "text/plain": [
       "HBox(children=(VBox(children=(Label(value='2021-07-01 <= YOUR DATE <= 2021-12-31'), DatePicker(value=None, des…"
      ]
     },
     "metadata": {},
     "output_type": "display_data"
    },
    {
     "data": {
      "application/vnd.jupyter.widget-view+json": {
       "model_id": "15ac9939d9da41e2a37ea86fc9abab58",
       "version_major": 2,
       "version_minor": 0
      },
      "text/plain": [
       "Output()"
      ]
     },
     "metadata": {},
     "output_type": "display_data"
    },
    {
     "data": {
      "application/vnd.jupyter.widget-view+json": {
       "model_id": "02eca67bfa8d41d5b0b81de6dd7853fc",
       "version_major": 2,
       "version_minor": 0
      },
      "text/plain": [
       "HBox(children=(VBox(children=(Label(value='2021-07-01 <= YOUR DATE <= 2021-12-31'), DatePicker(value=None, des…"
      ]
     },
     "metadata": {},
     "output_type": "display_data"
    },
    {
     "data": {
      "application/vnd.jupyter.widget-view+json": {
       "model_id": "4e358b8dedf44524aec114032e243191",
       "version_major": 2,
       "version_minor": 0
      },
      "text/plain": [
       "Output()"
      ]
     },
     "metadata": {},
     "output_type": "display_data"
    }
   ],
   "source": [
    "display(speed_ui,speed)\n",
    "display(altitude_ui,altitude)\n",
    "display(ir_ui,ir)\n",
    "display(luminosity_ui,luminosity)\n",
    "display(pm1s_ui,pm1s)\n",
    "display(pm25s_ui,pm25s)\n",
    "display(pm10s_ui,pm10s)\n",
    "display(pm1e_ui,pm1e)\n",
    "display(pm25e_ui,pm25e)\n",
    "display(pm10e_ui,pm10e)\n",
    "display(a03um01Lair_ui,a03um01Lair)\n",
    "display(a05um01Lair_ui,a05um01Lair)\n",
    "display(a1um01Lair_ui,a1um01Lair)\n",
    "display(a25um01Lair_ui,a25um01Lair)\n",
    "display(a5um01Lair_ui,a5um01Lair)\n",
    "display(a10um01Lair_ui,a10um01Lair)\n",
    "display(Co2_ui,Co2)\n",
    "display(Temp_ui,Temp)\n",
    "display(Hum_ui,Hum)"
   ]
  }
 ],
 "metadata": {
  "kernelspec": {
   "display_name": "Python 3 (ipykernel)",
   "language": "python",
   "name": "python3"
  },
  "language_info": {
   "codemirror_mode": {
    "name": "ipython",
    "version": 3
   },
   "file_extension": ".py",
   "mimetype": "text/x-python",
   "name": "python",
   "nbconvert_exporter": "python",
   "pygments_lexer": "ipython3",
   "version": "3.9.5"
  }
 },
 "nbformat": 4,
 "nbformat_minor": 5
}
