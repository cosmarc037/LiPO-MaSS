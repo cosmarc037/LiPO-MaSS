{
 "cells": [
  {
   "cell_type": "code",
   "execution_count": 1,
   "id": "a63820a0",
   "metadata": {},
   "outputs": [],
   "source": [
    "from __future__ import print_function\n",
    "from ipywidgets import interact, interactive, fixed, interact_manual, Layout, SelectMultiple\n",
    "import ipywidgets as widgets\n",
    "import pandas as pd\n",
    "import numpy as np\n",
    "import seaborn as sns\n",
    "import matplotlib.pyplot as plt\n",
    "from IPython.display import display\n",
    "from datetime import datetime as dt\n",
    "import ipydatetime\n",
    "import time\n",
    "import matplotlib.ticker as mticker\n",
    "import matplotlib\n",
    "import plotly.express as px"
   ]
  },
  {
   "cell_type": "code",
   "execution_count": 2,
   "id": "a17dc2a7",
   "metadata": {},
   "outputs": [],
   "source": [
    "df = pd.read_csv(\"/home/frakesmart/Desktop/LIPO/july_13_hampton_arcovia_hampton.csv\")\n",
    "df['Date'] = pd.to_datetime(df['Date'],format='%d/%m/%Y')"
   ]
  },
  {
   "cell_type": "code",
   "execution_count": 3,
   "id": "fca3929c",
   "metadata": {},
   "outputs": [],
   "source": [
    "opts = ['Speed', 'Altitude', 'ir', 'luminosity', 'pm1s', 'pm25s', 'pm10s', 'pm1e', 'pm25e', 'pm10e', 'a03um01Lair', 'a05um01Lair', 'a1um01Lair', 'a25um01Lair', 'a5um01Lair', 'a10um01Lair', 'Co2', 'Temp', 'Hum']\n",
    "sensor_data_widget = widgets.SelectMultiple(\n",
    "    options=opts,\n",
    "    description='Sensor Data:',\n",
    "    disabled=False,\n",
    "    rows=3\n",
    "    )"
   ]
  },
  {
   "cell_type": "code",
   "execution_count": 4,
   "id": "531016b2",
   "metadata": {},
   "outputs": [
    {
     "ename": "NameError",
     "evalue": "name 'sensordata' is not defined",
     "output_type": "error",
     "traceback": [
      "\u001b[0;31m---------------------------------------------------------------------------\u001b[0m",
      "\u001b[0;31mNameError\u001b[0m                                 Traceback (most recent call last)",
      "\u001b[0;32m/tmp/ipykernel_3184/666933227.py\u001b[0m in \u001b[0;36m<module>\u001b[0;34m\u001b[0m\n\u001b[0;32m----> 1\u001b[0;31m \u001b[0;32mif\u001b[0m \u001b[0msensordata\u001b[0m \u001b[0;34m==\u001b[0m \u001b[0;34m'Speed'\u001b[0m\u001b[0;34m:\u001b[0m\u001b[0;34m\u001b[0m\u001b[0;34m\u001b[0m\u001b[0m\n\u001b[0m\u001b[1;32m      2\u001b[0m     speed_widget = widgets.FloatRangeSlider(\n\u001b[1;32m      3\u001b[0m     \u001b[0mvalue\u001b[0m\u001b[0;34m=\u001b[0m\u001b[0;34m[\u001b[0m\u001b[0;36m0.01\u001b[0m\u001b[0;34m,\u001b[0m \u001b[0;36m3.0\u001b[0m\u001b[0;34m]\u001b[0m\u001b[0;34m,\u001b[0m\u001b[0;34m\u001b[0m\u001b[0;34m\u001b[0m\u001b[0m\n\u001b[1;32m      4\u001b[0m     \u001b[0mmin\u001b[0m\u001b[0;34m=\u001b[0m\u001b[0;36m0.01\u001b[0m\u001b[0;34m,\u001b[0m\u001b[0;34m\u001b[0m\u001b[0;34m\u001b[0m\u001b[0m\n\u001b[1;32m      5\u001b[0m     \u001b[0mmax\u001b[0m\u001b[0;34m=\u001b[0m\u001b[0;36m3.0\u001b[0m\u001b[0;34m,\u001b[0m\u001b[0;34m\u001b[0m\u001b[0;34m\u001b[0m\u001b[0m\n",
      "\u001b[0;31mNameError\u001b[0m: name 'sensordata' is not defined"
     ]
    }
   ],
   "source": [
    "if sensordata == 'Speed':\n",
    "    speed_widget = widgets.FloatRangeSlider(\n",
    "    value=[0.01, 3.0],\n",
    "    min=0.01,\n",
    "    max=3.0,\n",
    "    step=0.01,\n",
    "    description='Speed:',\n",
    "    disabled=False,\n",
    "    continuous_update=False,\n",
    "    orientation='horizontal',\n",
    "    readout=True,\n",
    "    readout_format='.3f')\n",
    "\n",
    "\n",
    "    def date_parameters(start, end):\n",
    "       \n",
    "        df_date_update = df.loc[(start <= df['Date'].dt.date) & (end >= df['Date'].dt.date)]\n",
    "        df_date_update.to_csv('date.csv')\n",
    "            \n",
    "    def speed_parameters(speed):\n",
    "    \n",
    "        speedlow = speed[0]\n",
    "        speedhigh = speed[1]    \n",
    "    \n",
    "        data = pd.read_csv(\"/home/frakesmart/Desktop/LIPO/date.csv\")\n",
    "        df_speed_updated = data[data.Speed.between(speedlow,speedhigh)]\n",
    "        df_speed_updated.to_csv('speed.csv')\n",
    "    \n",
    "    \n",
    "        df_speed = pd.read_csv(\"/home/frakesmart/Desktop/LIPO/speed.csv\")\n",
    "        fig = px.scatter_mapbox(df_speed, lat=\"Latitude\", lon=\"Longitude\", color=\"Speed\",size=\"Speed\", hover_name=\"Speed\", hover_data=[\"Speed\"],\n",
    "                         size_max=15, zoom=12, height=600)\n",
    "        fig.update_layout(mapbox_style=\"open-street-map\")\n",
    "        fig.update_layout(margin={\"r\":0,\"t\":0,\"l\":0,\"b\":0})\n",
    "        fig.show()\n",
    "        \n",
    "        speed = widgets.interactive_output(speed_parameters, {'speed': speed_widget})\n",
    "        \n",
    "        \n",
    "        speed_ui = widgets.HBox(\n",
    "                [widgets.VBox(\n",
    "                    [widgets.Label(\"2016-01-01 <= YOUR DATE <= 2018-12-31\"), start_date_widget, end_date_widget]),\n",
    "                    speed_widget,\n",
    "                    sensor_data_widget,\n",
    "                     speed], layout=Layout(display='flex', flex_flow='row wrap', justify_content='space-between'))\n",
    "        \n",
    "        display(speed_ui,speed)"
   ]
  },
  {
   "cell_type": "code",
   "execution_count": null,
   "id": "c78f5507",
   "metadata": {},
   "outputs": [],
   "source": [
    "sensordata = widgets.interactive_output(main_interface, \n",
    "          {'sensordata': sensor_data_widget\n",
    "          })\n",
    "\n",
    "sensordata_ui = widgets.HBox(\n",
    "        [widgets.VBox(\n",
    "          [widgets.Label(\"Select your preferred Data:\"), sensor_data_widget]),\n",
    "        ], \n",
    "        layout=Layout(display='flex', flex_flow='row wrap', justify_content='space-between')\n",
    "    )"
   ]
  },
  {
   "cell_type": "code",
   "execution_count": null,
   "id": "329b6309",
   "metadata": {},
   "outputs": [],
   "source": [
    "display(sensordata_ui)"
   ]
  },
  {
   "cell_type": "code",
   "execution_count": null,
   "id": "3e49594c",
   "metadata": {},
   "outputs": [],
   "source": [
    "sensor_data_widget.value"
   ]
  },
  {
   "cell_type": "code",
   "execution_count": null,
   "id": "4036ef4f",
   "metadata": {},
   "outputs": [],
   "source": [
    "out = widgets.interactive_output()"
   ]
  },
  {
   "cell_type": "code",
   "execution_count": null,
   "id": "20d41254",
   "metadata": {},
   "outputs": [],
   "source": [
    "widgets.HBox([widgets.VBox([start_date, end_date]), out])"
   ]
  },
  {
   "cell_type": "code",
   "execution_count": null,
   "id": "ae2ceaf2",
   "metadata": {},
   "outputs": [],
   "source": []
  }
 ],
 "metadata": {
  "kernelspec": {
   "display_name": "Python 3 (ipykernel)",
   "language": "python",
   "name": "python3"
  },
  "language_info": {
   "codemirror_mode": {
    "name": "ipython",
    "version": 3
   },
   "file_extension": ".py",
   "mimetype": "text/x-python",
   "name": "python",
   "nbconvert_exporter": "python",
   "pygments_lexer": "ipython3",
   "version": "3.8.5"
  }
 },
 "nbformat": 4,
 "nbformat_minor": 5
}
